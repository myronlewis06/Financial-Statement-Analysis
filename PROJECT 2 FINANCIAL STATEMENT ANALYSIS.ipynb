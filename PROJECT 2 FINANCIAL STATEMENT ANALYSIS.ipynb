{
 "cells": [
  {
   "cell_type": "code",
   "execution_count": null,
   "id": "67fc2942",
   "metadata": {},
   "outputs": [],
   "source": []
  },
  {
   "cell_type": "code",
   "execution_count": 1,
   "id": "fed78b05",
   "metadata": {},
   "outputs": [],
   "source": [
    "revenue = [14574.49, 7606.46, 8611.41, 9175.41, 8058.65, 8105.44, 11496.28, 9766.09, 10305.32, 14379.96, 10713.97, 15433.50]\n",
    "expenses = [12051.82, 5695.07, 12319.20, 12089.72, 8658.57, 840.20, 3285.73, 5821.12, 6976.93, 16618.61, 10054.37, 3803.96]\n"
   ]
  },
  {
   "cell_type": "code",
   "execution_count": 5,
   "id": "40609ee7",
   "metadata": {},
   "outputs": [
    {
     "name": "stdout",
     "output_type": "stream",
     "text": [
      "[2522.67, 1911.3900000000003, -3707.790000000001, -2914.3099999999995, -599.9200000000001, 7265.24, 8210.550000000001, 3944.9700000000003, 3328.3899999999994, -2238.6500000000015, 659.5999999999985, 11629.54]\n"
     ]
    }
   ],
   "source": [
    "profit= list([])\n",
    "\n",
    "for i in range (0, len(revenue)):\n",
    "    profit.append(revenue[i]-expenses[i])\n",
    "print(profit)    "
   ]
  },
  {
   "cell_type": "code",
   "execution_count": 9,
   "id": "74437443",
   "metadata": {
    "scrolled": true
   },
   "outputs": [
    {
     "name": "stdout",
     "output_type": "stream",
     "text": [
      "[756.8, 573.42, -1112.34, -874.29, -179.98, 2179.57, 2463.17, 1183.49, 998.52, -671.6, 197.88, 3488.86]\n"
     ]
    }
   ],
   "source": [
    "tax=[round(i*0.3,2) for i in profit]\n",
    "print(tax)"
   ]
  },
  {
   "cell_type": "code",
   "execution_count": 21,
   "id": "7d4a3813",
   "metadata": {},
   "outputs": [
    {
     "name": "stdout",
     "output_type": "stream",
     "text": [
      "[1765.8700000000001, 1337.9700000000003, -2595.4500000000007, -2040.0199999999995, -419.94000000000005, 5085.67, 5747.380000000001, 2761.4800000000005, 2329.8699999999994, -1567.0500000000015, 461.71999999999855, 8140.68]\n"
     ]
    }
   ],
   "source": [
    "profit_after_tax = list([])\n",
    "\n",
    "for i in range (0 , len(profit)):\n",
    "    profit_after_tax.append(profit[i]-tax[i])\n",
    "print(profit_after_tax)    \n",
    "    "
   ]
  },
  {
   "cell_type": "code",
   "execution_count": 27,
   "id": "465c3136",
   "metadata": {},
   "outputs": [
    {
     "name": "stdout",
     "output_type": "stream",
     "text": [
      "[12.12, 17.59, -30.14, -22.23, -5.21, 62.74, 49.99, 28.28, 22.61, -10.9, 4.31, 52.75]\n"
     ]
    }
   ],
   "source": [
    "#PROFIT MARGIN AFTER TAX\n",
    "profit_margin = list([])\n",
    "\n",
    "for i in range (0, len(profit)):\n",
    "    profit_margin.append(profit_after_tax[i]/revenue[i])\n",
    "profit_margin = [round(i*100,2) for i in profit_margin]\n",
    "print(profit_margin)"
   ]
  },
  {
   "cell_type": "code",
   "execution_count": 28,
   "id": "e5c8ff05",
   "metadata": {},
   "outputs": [
    {
     "name": "stdout",
     "output_type": "stream",
     "text": [
      "1750.6816666666666\n"
     ]
    }
   ],
   "source": [
    "#PROFIT AFTER TAX\n",
    "mean_pat = (sum(profit_after_tax)/len(revenue))\n",
    "print(mean_pat)"
   ]
  },
  {
   "cell_type": "code",
   "execution_count": 31,
   "id": "2b8f993a",
   "metadata": {},
   "outputs": [
    {
     "name": "stdout",
     "output_type": "stream",
     "text": [
      "[True, False, False, False, False, True, True, True, True, False, False, True]\n"
     ]
    }
   ],
   "source": [
    "good_months = list([])\n",
    "for i in range (0, len(profit)):\n",
    "    good_months.append( profit_after_tax[i]>mean_pat)\n",
    "print(good_months)"
   ]
  },
  {
   "cell_type": "code",
   "execution_count": 34,
   "id": "2df82f11",
   "metadata": {},
   "outputs": [
    {
     "name": "stdout",
     "output_type": "stream",
     "text": [
      "[False, True, True, True, True, False, False, False, False, True, True, False]\n"
     ]
    }
   ],
   "source": [
    "bad_months = list([])\n",
    "for i in range (0, len(profit)):\n",
    "    bad_months.append( profit_after_tax[i]<mean_pat)\n",
    "print(bad_months)"
   ]
  },
  {
   "cell_type": "code",
   "execution_count": 39,
   "id": "5ae80800",
   "metadata": {},
   "outputs": [
    {
     "name": "stdout",
     "output_type": "stream",
     "text": [
      "[False, False, False, False, False, False, False, False, False, False, False, True]\n"
     ]
    }
   ],
   "source": [
    "best_month = list([])\n",
    "for i in range (0, len(profit_after_tax)):\n",
    "    best_month.append(profit_after_tax[i] == max(profit_after_tax))\n",
    "print(best_month)                      \n",
    "                                  \n"
   ]
  },
  {
   "cell_type": "code",
   "execution_count": 40,
   "id": "da805a7d",
   "metadata": {},
   "outputs": [
    {
     "name": "stdout",
     "output_type": "stream",
     "text": [
      "[False, False, True, False, False, False, False, False, False, False, False, False]\n"
     ]
    }
   ],
   "source": [
    "worst_month = list([])\n",
    "for i in range (0, len(profit_after_tax)):\n",
    "    worst_month.append(profit_after_tax[i] == min(profit_after_tax))\n",
    "print(worst_month)                      \n",
    "                                  \n"
   ]
  },
  {
   "cell_type": "code",
   "execution_count": 58,
   "id": "88f62de0",
   "metadata": {},
   "outputs": [],
   "source": [
    "# CONVERTING ALL VALUES TO UNITS OF 1000 DOLLERS\n",
    "revenue_1000 =[round(i/1000,2) for i in revenue]\n",
    "expenses_1000 =[round(i/1000,2) for i in expenses]\n",
    "profit_1000 =[round(i/1000,2) for i in profit]\n",
    "profit_after_tax_1000 = [round(i/1000,2) for i in profit_after_tax]\n"
   ]
  },
  {
   "cell_type": "code",
   "execution_count": 55,
   "id": "03ab64f2",
   "metadata": {},
   "outputs": [],
   "source": [
    "revenue_1000 = [int(i) for i in revenue_1000]\n",
    "expenses_1000 = [int(i) for i in expenses_1000]\n",
    "profit_1000 = [int(i) for i in profit_1000]\n",
    "profit_after_tax_1000 = [int(i) for i in  profit_after_tax_1000]"
   ]
  },
  {
   "cell_type": "code",
   "execution_count": 59,
   "id": "b3aaefdb",
   "metadata": {},
   "outputs": [
    {
     "name": "stdout",
     "output_type": "stream",
     "text": [
      "REVENUE :\n",
      "[14.57, 7.61, 8.61, 9.18, 8.06, 8.11, 11.5, 9.77, 10.31, 14.38, 10.71, 15.43]\n",
      "EXPENSES :\n",
      "[12.05, 5.7, 12.32, 12.09, 8.66, 0.84, 3.29, 5.82, 6.98, 16.62, 10.05, 3.8]\n",
      "PROFIT :\n",
      "[2.52, 1.91, -3.71, -2.91, -0.6, 7.27, 8.21, 3.94, 3.33, -2.24, 0.66, 11.63]\n",
      "PROFIT AFTER TAX :\n",
      "[1.77, 1.34, -2.6, -2.04, -0.42, 5.09, 5.75, 2.76, 2.33, -1.57, 0.46, 8.14]\n",
      "PROFIT MARGIN :\n",
      "[12.12, 17.59, -30.14, -22.23, -5.21, 62.74, 49.99, 28.28, 22.61, -10.9, 4.31, 52.75]\n",
      "GOOD MONTHS :\n",
      "[True, False, False, False, False, True, True, True, True, False, False, True]\n",
      "BAD MONTHS :\n",
      "[False, True, True, True, True, False, False, False, False, True, True, False]\n",
      "BEST MONTH :\n",
      "[False, False, False, False, False, False, False, False, False, False, False, True]\n",
      "WORST MONTH :\n",
      "[False, False, True, False, False, False, False, False, False, False, False, False]\n"
     ]
    }
   ],
   "source": [
    "print(\"REVENUE :\")\n",
    "print(revenue_1000)\n",
    "print(\"EXPENSES :\")\n",
    "print(expenses_1000)\n",
    "print(\"PROFIT :\")\n",
    "print(profit_1000)\n",
    "print(\"PROFIT AFTER TAX :\")\n",
    "print(profit_after_tax_1000)\n",
    "print(\"PROFIT MARGIN :\")\n",
    "print(profit_margin)\n",
    "print(\"GOOD MONTHS :\")\n",
    "print(good_months)\n",
    "print(\"BAD MONTHS :\")\n",
    "print(bad_months)\n",
    "print(\"BEST MONTH :\")\n",
    "print(best_month)\n",
    "print(\"WORST MONTH :\")\n",
    "print(worst_month)\n"
   ]
  },
  {
   "cell_type": "code",
   "execution_count": null,
   "id": "47438eee",
   "metadata": {},
   "outputs": [],
   "source": []
  }
 ],
 "metadata": {
  "kernelspec": {
   "display_name": "Python 3 (ipykernel)",
   "language": "python",
   "name": "python3"
  },
  "language_info": {
   "codemirror_mode": {
    "name": "ipython",
    "version": 3
   },
   "file_extension": ".py",
   "mimetype": "text/x-python",
   "name": "python",
   "nbconvert_exporter": "python",
   "pygments_lexer": "ipython3",
   "version": "3.9.7"
  }
 },
 "nbformat": 4,
 "nbformat_minor": 5
}
